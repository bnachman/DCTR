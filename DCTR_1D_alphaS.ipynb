{
 "cells": [
  {
   "cell_type": "code",
   "execution_count": 1,
   "metadata": {},
   "outputs": [],
   "source": [
    "import os\n",
    "os.environ[\"CUDA_DEVICE_ORDER\"]=\"PCI_BUS_ID\"\n",
    "os.environ[\"CUDA_VISIBLE_DEVICES\"]=\"0\""
   ]
  },
  {
   "cell_type": "code",
   "execution_count": 2,
   "metadata": {},
   "outputs": [
    {
     "name": "stderr",
     "output_type": "stream",
     "text": [
      "Using TensorFlow backend.\n",
      "/home/aandreassen/.local/lib/python3.5/site-packages/tensorflow/python/framework/dtypes.py:523: FutureWarning: Passing (type, 1) or '1type' as a synonym of type is deprecated; in a future version of numpy, it will be understood as (type, (1,)) / '(1,)type'.\n",
      "  _np_qint8 = np.dtype([(\"qint8\", np.int8, 1)])\n",
      "/home/aandreassen/.local/lib/python3.5/site-packages/tensorflow/python/framework/dtypes.py:524: FutureWarning: Passing (type, 1) or '1type' as a synonym of type is deprecated; in a future version of numpy, it will be understood as (type, (1,)) / '(1,)type'.\n",
      "  _np_quint8 = np.dtype([(\"quint8\", np.uint8, 1)])\n",
      "/home/aandreassen/.local/lib/python3.5/site-packages/tensorflow/python/framework/dtypes.py:525: FutureWarning: Passing (type, 1) or '1type' as a synonym of type is deprecated; in a future version of numpy, it will be understood as (type, (1,)) / '(1,)type'.\n",
      "  _np_qint16 = np.dtype([(\"qint16\", np.int16, 1)])\n",
      "/home/aandreassen/.local/lib/python3.5/site-packages/tensorflow/python/framework/dtypes.py:526: FutureWarning: Passing (type, 1) or '1type' as a synonym of type is deprecated; in a future version of numpy, it will be understood as (type, (1,)) / '(1,)type'.\n",
      "  _np_quint16 = np.dtype([(\"quint16\", np.uint16, 1)])\n",
      "/home/aandreassen/.local/lib/python3.5/site-packages/tensorflow/python/framework/dtypes.py:527: FutureWarning: Passing (type, 1) or '1type' as a synonym of type is deprecated; in a future version of numpy, it will be understood as (type, (1,)) / '(1,)type'.\n",
      "  _np_qint32 = np.dtype([(\"qint32\", np.int32, 1)])\n",
      "/home/aandreassen/.local/lib/python3.5/site-packages/tensorflow/python/framework/dtypes.py:532: FutureWarning: Passing (type, 1) or '1type' as a synonym of type is deprecated; in a future version of numpy, it will be understood as (type, (1,)) / '(1,)type'.\n",
      "  np_resource = np.dtype([(\"resource\", np.ubyte, 1)])\n"
     ]
    }
   ],
   "source": [
    "# standard library imports\n",
    "from __future__ import absolute_import, division, print_function\n",
    "\n",
    "import keras\n",
    "\n",
    "# standard numerical library imports\n",
    "import numpy as np\n",
    "import scipy as sp\n",
    "\n",
    "# energyflow imports\n",
    "import energyflow as ef\n",
    "from energyflow.archs import PFN\n",
    "from energyflow.utils import data_split, remap_pids, to_categorical\n",
    "\n",
    "import matplotlib.pyplot as plt"
   ]
  },
  {
   "cell_type": "code",
   "execution_count": 3,
   "metadata": {},
   "outputs": [],
   "source": [
    "# Global plot settings\n",
    "from matplotlib import rc\n",
    "import matplotlib.font_manager\n",
    "rc('font', family='serif')\n",
    "rc('text', usetex=True)\n",
    "rc('font', size=22) \n",
    "rc('xtick', labelsize=15) \n",
    "rc('ytick', labelsize=15) \n",
    "rc('legend', fontsize=15)"
   ]
  },
  {
   "cell_type": "markdown",
   "metadata": {},
   "source": [
    "# Load Data"
   ]
  },
  {
   "cell_type": "markdown",
   "metadata": {},
   "source": [
    "## Utilities"
   ]
  },
  {
   "cell_type": "code",
   "execution_count": 4,
   "metadata": {},
   "outputs": [],
   "source": [
    "# normalize pT and center (y, phi)\n",
    "def normalize(x):\n",
    "    mask = x[:,0] > 0\n",
    "    yphi_avg = np.average(x[mask,1:3], weights=x[mask,0], axis=0)\n",
    "    x[mask,1:3] -= yphi_avg\n",
    "    x[mask,0] /= x[:,0].sum()"
   ]
  },
  {
   "cell_type": "code",
   "execution_count": 5,
   "metadata": {},
   "outputs": [],
   "source": [
    "def preprocess_data(X):\n",
    "    for x in X:\n",
    "        normalize(x)\n",
    "    \n",
    "    # Remap PIDs to unique values in range [0,1]\n",
    "    remap_pids(X, pid_i=3)\n",
    "    return X"
   ]
  },
  {
   "cell_type": "markdown",
   "metadata": {},
   "source": [
    "## Process data"
   ]
  },
  {
   "cell_type": "code",
   "execution_count": 6,
   "metadata": {},
   "outputs": [],
   "source": [
    "# Path to downloaded data from Zenodo\n",
    "data_dir = '/data0/users/aandreassen/zenodo/'"
   ]
  },
  {
   "cell_type": "code",
   "execution_count": 7,
   "metadata": {},
   "outputs": [],
   "source": [
    "dataset = np.load(data_dir + '1D_alphaS_train.npz')"
   ]
  },
  {
   "cell_type": "code",
   "execution_count": 8,
   "metadata": {},
   "outputs": [],
   "source": [
    "X = dataset['X']\n",
    "Y = dataset['Y']"
   ]
  },
  {
   "cell_type": "code",
   "execution_count": 9,
   "metadata": {},
   "outputs": [],
   "source": [
    "X = preprocess_data(X)\n",
    "Y = to_categorical(Y, num_classes=2)"
   ]
  },
  {
   "cell_type": "code",
   "execution_count": 10,
   "metadata": {},
   "outputs": [],
   "source": [
    "X_train, X_val, Y_train, Y_val = data_split(X, Y, test=0.1, shuffle=True)"
   ]
  },
  {
   "cell_type": "code",
   "execution_count": 11,
   "metadata": {},
   "outputs": [
    {
     "name": "stdout",
     "output_type": "stream",
     "text": [
      "(1620000, 51, 7)\n",
      "(1620000, 2)\n",
      "(180000, 51, 7)\n",
      "(180000, 2)\n"
     ]
    }
   ],
   "source": [
    "print(X_train.shape)\n",
    "print(Y_train.shape)\n",
    "\n",
    "print(X_val.shape)\n",
    "print(Y_val.shape)"
   ]
  },
  {
   "cell_type": "markdown",
   "metadata": {},
   "source": [
    "# Build Model"
   ]
  },
  {
   "cell_type": "code",
   "execution_count": 12,
   "metadata": {
    "scrolled": true
   },
   "outputs": [],
   "source": [
    "# network architecture parameters\n",
    "Phi_sizes = (100,100, 128)\n",
    "F_sizes = (100,100, 100)\n",
    "\n",
    "dctr = PFN(input_dim=7, \n",
    "           Phi_sizes=Phi_sizes, F_sizes=F_sizes,\n",
    "           summary=False)"
   ]
  },
  {
   "cell_type": "markdown",
   "metadata": {},
   "source": [
    "# Train model"
   ]
  },
  {
   "cell_type": "code",
   "execution_count": 13,
   "metadata": {},
   "outputs": [],
   "source": [
    "save_label = 'DCTR_ee_dijets_1D_alphaS'\n",
    "\n",
    "checkpoint = keras.callbacks.ModelCheckpoint('./saved_models/' + save_label + '.h5', \n",
    "                                                monitor='val_loss', \n",
    "                                                verbose=2, \n",
    "                                                save_best_only=True, \n",
    "                                                mode='min')\n",
    "\n",
    "CSVLogger = keras.callbacks.CSVLogger('./logs/' + save_label + '_loss.csv', append=False)\n",
    "\n",
    "EarlyStopping = keras.callbacks.EarlyStopping(monitor='val_loss', \n",
    "                                              min_delta=0, \n",
    "                                              patience=10, \n",
    "                                              verbose=1, \n",
    "                                              restore_best_weights=True)\n",
    "\n",
    "callbacks = [checkpoint, CSVLogger, EarlyStopping]"
   ]
  },
  {
   "cell_type": "code",
   "execution_count": 14,
   "metadata": {
    "scrolled": true
   },
   "outputs": [
    {
     "name": "stdout",
     "output_type": "stream",
     "text": [
      "Train on 1620000 samples, validate on 180000 samples\n",
      "Epoch 1/100\n",
      "1620000/1620000 [==============================] - 20s 13us/step - loss: 0.6953 - acc: 0.5333 - val_loss: 0.6827 - val_acc: 0.5495\n",
      "\n",
      "Epoch 00001: val_loss improved from inf to 0.68267, saving model to ./saved_models/DCTR_ee_dijets_1D_alphaS.h5\n",
      "Epoch 2/100\n",
      "1620000/1620000 [==============================] - 18s 11us/step - loss: 0.6825 - acc: 0.5531 - val_loss: 0.6824 - val_acc: 0.5546\n",
      "\n",
      "Epoch 00002: val_loss improved from 0.68267 to 0.68237, saving model to ./saved_models/DCTR_ee_dijets_1D_alphaS.h5\n",
      "Epoch 3/100\n",
      "1620000/1620000 [==============================] - 19s 11us/step - loss: 0.6811 - acc: 0.5568 - val_loss: 0.6814 - val_acc: 0.5548\n",
      "\n",
      "Epoch 00003: val_loss improved from 0.68237 to 0.68137, saving model to ./saved_models/DCTR_ee_dijets_1D_alphaS.h5\n",
      "Epoch 4/100\n",
      "1620000/1620000 [==============================] - 19s 12us/step - loss: 0.6804 - acc: 0.5585 - val_loss: 0.6790 - val_acc: 0.5599\n",
      "\n",
      "Epoch 00004: val_loss improved from 0.68137 to 0.67895, saving model to ./saved_models/DCTR_ee_dijets_1D_alphaS.h5\n",
      "Epoch 5/100\n",
      "1620000/1620000 [==============================] - 19s 11us/step - loss: 0.6799 - acc: 0.5590 - val_loss: 0.6803 - val_acc: 0.5587\n",
      "\n",
      "Epoch 00005: val_loss did not improve from 0.67895\n",
      "Epoch 6/100\n",
      "1620000/1620000 [==============================] - 18s 11us/step - loss: 0.6794 - acc: 0.5606 - val_loss: 0.6782 - val_acc: 0.5622\n",
      "\n",
      "Epoch 00006: val_loss improved from 0.67895 to 0.67822, saving model to ./saved_models/DCTR_ee_dijets_1D_alphaS.h5\n",
      "Epoch 7/100\n",
      "1620000/1620000 [==============================] - 18s 11us/step - loss: 0.6790 - acc: 0.5614 - val_loss: 0.6782 - val_acc: 0.5635\n",
      "\n",
      "Epoch 00007: val_loss did not improve from 0.67822\n",
      "Epoch 8/100\n",
      "1620000/1620000 [==============================] - 18s 11us/step - loss: 0.6786 - acc: 0.5619 - val_loss: 0.6783 - val_acc: 0.5624\n",
      "\n",
      "Epoch 00008: val_loss did not improve from 0.67822\n",
      "Epoch 9/100\n",
      "1620000/1620000 [==============================] - 19s 12us/step - loss: 0.6783 - acc: 0.5628 - val_loss: 0.6781 - val_acc: 0.5624\n",
      "\n",
      "Epoch 00009: val_loss improved from 0.67822 to 0.67811, saving model to ./saved_models/DCTR_ee_dijets_1D_alphaS.h5\n",
      "Epoch 10/100\n",
      "1620000/1620000 [==============================] - 19s 12us/step - loss: 0.6780 - acc: 0.5630 - val_loss: 0.6776 - val_acc: 0.5641\n",
      "\n",
      "Epoch 00010: val_loss improved from 0.67811 to 0.67763, saving model to ./saved_models/DCTR_ee_dijets_1D_alphaS.h5\n",
      "Epoch 11/100\n",
      "1620000/1620000 [==============================] - 19s 12us/step - loss: 0.6778 - acc: 0.5636 - val_loss: 0.6773 - val_acc: 0.5644\n",
      "\n",
      "Epoch 00011: val_loss improved from 0.67763 to 0.67731, saving model to ./saved_models/DCTR_ee_dijets_1D_alphaS.h5\n",
      "Epoch 12/100\n",
      "1620000/1620000 [==============================] - 18s 11us/step - loss: 0.6777 - acc: 0.5640 - val_loss: 0.6776 - val_acc: 0.5641\n",
      "\n",
      "Epoch 00012: val_loss did not improve from 0.67731\n",
      "Epoch 13/100\n",
      "1620000/1620000 [==============================] - 18s 11us/step - loss: 0.6775 - acc: 0.5642 - val_loss: 0.6771 - val_acc: 0.5655\n",
      "\n",
      "Epoch 00013: val_loss improved from 0.67731 to 0.67712, saving model to ./saved_models/DCTR_ee_dijets_1D_alphaS.h5\n",
      "Epoch 14/100\n",
      "1620000/1620000 [==============================] - 18s 11us/step - loss: 0.6773 - acc: 0.5645 - val_loss: 0.6774 - val_acc: 0.5643\n",
      "\n",
      "Epoch 00014: val_loss did not improve from 0.67712\n",
      "Epoch 15/100\n",
      "1620000/1620000 [==============================] - 19s 11us/step - loss: 0.6773 - acc: 0.5646 - val_loss: 0.6774 - val_acc: 0.5662\n",
      "\n",
      "Epoch 00015: val_loss did not improve from 0.67712\n",
      "Epoch 16/100\n",
      "1620000/1620000 [==============================] - 19s 12us/step - loss: 0.6772 - acc: 0.5648 - val_loss: 0.6774 - val_acc: 0.5649\n",
      "\n",
      "Epoch 00016: val_loss did not improve from 0.67712\n",
      "Epoch 17/100\n",
      "1620000/1620000 [==============================] - 19s 12us/step - loss: 0.6771 - acc: 0.5650 - val_loss: 0.6778 - val_acc: 0.5642\n",
      "\n",
      "Epoch 00017: val_loss did not improve from 0.67712\n",
      "Epoch 18/100\n",
      "1620000/1620000 [==============================] - 18s 11us/step - loss: 0.6769 - acc: 0.5654 - val_loss: 0.6772 - val_acc: 0.5648\n",
      "\n",
      "Epoch 00018: val_loss did not improve from 0.67712\n",
      "Epoch 19/100\n",
      "1620000/1620000 [==============================] - 18s 11us/step - loss: 0.6768 - acc: 0.5651 - val_loss: 0.6777 - val_acc: 0.5631\n",
      "\n",
      "Epoch 00019: val_loss did not improve from 0.67712\n",
      "Epoch 20/100\n",
      "1620000/1620000 [==============================] - 18s 11us/step - loss: 0.6767 - acc: 0.5659 - val_loss: 0.6771 - val_acc: 0.5651\n",
      "\n",
      "Epoch 00020: val_loss did not improve from 0.67712\n",
      "Epoch 21/100\n",
      "1620000/1620000 [==============================] - 19s 11us/step - loss: 0.6766 - acc: 0.5659 - val_loss: 0.6770 - val_acc: 0.5656\n",
      "\n",
      "Epoch 00021: val_loss improved from 0.67712 to 0.67699, saving model to ./saved_models/DCTR_ee_dijets_1D_alphaS.h5\n",
      "Epoch 22/100\n",
      "1620000/1620000 [==============================] - 19s 12us/step - loss: 0.6765 - acc: 0.5664 - val_loss: 0.6775 - val_acc: 0.5636\n",
      "\n",
      "Epoch 00022: val_loss did not improve from 0.67699\n",
      "Epoch 23/100\n",
      "1620000/1620000 [==============================] - 19s 12us/step - loss: 0.6765 - acc: 0.5664 - val_loss: 0.6772 - val_acc: 0.5651\n",
      "\n",
      "Epoch 00023: val_loss did not improve from 0.67699\n",
      "Epoch 24/100\n",
      "1620000/1620000 [==============================] - 19s 12us/step - loss: 0.6764 - acc: 0.5665 - val_loss: 0.6774 - val_acc: 0.5639\n",
      "\n",
      "Epoch 00024: val_loss did not improve from 0.67699\n",
      "Epoch 25/100\n",
      "1620000/1620000 [==============================] - 18s 11us/step - loss: 0.6763 - acc: 0.5665 - val_loss: 0.6774 - val_acc: 0.5639\n",
      "\n",
      "Epoch 00025: val_loss did not improve from 0.67699\n",
      "Epoch 26/100\n",
      "1620000/1620000 [==============================] - 18s 11us/step - loss: 0.6763 - acc: 0.5666 - val_loss: 0.6774 - val_acc: 0.5636\n",
      "\n",
      "Epoch 00026: val_loss did not improve from 0.67699\n",
      "Epoch 27/100\n",
      "1620000/1620000 [==============================] - 18s 11us/step - loss: 0.6762 - acc: 0.5669 - val_loss: 0.6775 - val_acc: 0.5640\n",
      "\n",
      "Epoch 00027: val_loss did not improve from 0.67699\n",
      "Epoch 28/100\n",
      "1620000/1620000 [==============================] - 19s 12us/step - loss: 0.6762 - acc: 0.5669 - val_loss: 0.6773 - val_acc: 0.5633\n",
      "\n",
      "Epoch 00028: val_loss did not improve from 0.67699\n",
      "Epoch 29/100\n",
      "1620000/1620000 [==============================] - 19s 12us/step - loss: 0.6761 - acc: 0.5675 - val_loss: 0.6771 - val_acc: 0.5650\n",
      "\n",
      "Epoch 00029: val_loss did not improve from 0.67699\n",
      "Epoch 30/100\n",
      "1620000/1620000 [==============================] - 19s 12us/step - loss: 0.6760 - acc: 0.5673 - val_loss: 0.6776 - val_acc: 0.5641\n",
      "\n",
      "Epoch 00030: val_loss did not improve from 0.67699\n",
      "Epoch 31/100\n",
      "1620000/1620000 [==============================] - 18s 11us/step - loss: 0.6759 - acc: 0.5674 - val_loss: 0.6771 - val_acc: 0.5647\n",
      "\n",
      "Epoch 00031: val_loss did not improve from 0.67699\n",
      "Restoring model weights from the end of the best epoch\n",
      "Epoch 00031: early stopping\n"
     ]
    }
   ],
   "source": [
    "history = dctr.fit(X_train, Y_train,\n",
    "                    epochs = 100,\n",
    "                    batch_size = 1000,\n",
    "                    validation_data = (X_val, Y_val),\n",
    "                    verbose = 1, \n",
    "                    callbacks = callbacks)"
   ]
  },
  {
   "cell_type": "markdown",
   "metadata": {},
   "source": [
    "# Plot History"
   ]
  },
  {
   "cell_type": "code",
   "execution_count": 15,
   "metadata": {},
   "outputs": [
    {
     "data": {
      "image/png": "[encoded data removed]",
      "text/plain": [
       "<Figure size 432x288 with 1 Axes>"
      ]
     },
     "metadata": {
      "needs_background": "light"
     },
     "output_type": "display_data"
    }
   ],
   "source": [
    "plt.plot(history.history['loss'],     label = 'loss')\n",
    "plt.plot(history.history['val_loss'], label = 'val loss')\n",
    "plt.legend(loc=0)\n",
    "plt.ylabel('loss')\n",
    "plt.xlabel('Epochs')\n",
    "plt.show()"
   ]
  },
  {
   "cell_type": "markdown",
   "metadata": {},
   "source": [
    "# Load Model"
   ]
  },
  {
   "cell_type": "code",
   "execution_count": 16,
   "metadata": {},
   "outputs": [],
   "source": [
    "# load model from saved file\n",
    "#dctr.model.load_weights('./saved_models/DCTR_ee_dijets_1D_alphaS.h5')"
   ]
  },
  {
   "cell_type": "markdown",
   "metadata": {},
   "source": [
    "# Validation"
   ]
  },
  {
   "cell_type": "markdown",
   "metadata": {},
   "source": [
    "## Load Datasets"
   ]
  },
  {
   "cell_type": "code",
   "execution_count": 17,
   "metadata": {},
   "outputs": [],
   "source": [
    "test_dataset_0 = np.load(data_dir+'test1D_default.npz')\n",
    "test_dataset_1 = np.load(data_dir+'test1D_alphaS.npz')"
   ]
  },
  {
   "cell_type": "code",
   "execution_count": 18,
   "metadata": {},
   "outputs": [],
   "source": [
    "# Define labels for legends\n",
    "label_0 = r'$\\alpha_s=0.1365$'\n",
    "\n",
    "label_1 = r'$\\alpha_s = 0.16$'\n",
    "\n",
    "pythia_text = r'\\textsc{Pythia 8}' + '\\n' + r'$e^+e^- \\to Z \\to $ dijets' +'\\n'+ r\"anti-$k_{\\mathrm{T}}$, $R=0.8$\"\n",
    "def make_legend():\n",
    "    ax = plt.gca()\n",
    "    leg = ax.legend(frameon=False)\n",
    "    leg.set_title(pythia_text, prop={'size':14})\n",
    "    leg._legend_box.align = \"left\"\n",
    "    plt.tight_layout()"
   ]
  },
  {
   "cell_type": "markdown",
   "metadata": {},
   "source": [
    "## Get predictions"
   ]
  },
  {
   "cell_type": "code",
   "execution_count": 19,
   "metadata": {},
   "outputs": [],
   "source": [
    "# Load test datasets\n",
    "X0_test = preprocess_data(test_dataset_0['jet'])\n",
    "X1_test = preprocess_data(test_dataset_1['jet'])"
   ]
  },
  {
   "cell_type": "code",
   "execution_count": 20,
   "metadata": {},
   "outputs": [],
   "source": [
    "# Get predicted probabilities\n",
    "preds_0 = dctr.predict(X0_test, batch_size=1000)\n",
    "preds_1 = dctr.predict(X1_test, batch_size=1000)"
   ]
  },
  {
   "cell_type": "markdown",
   "metadata": {},
   "source": [
    "## Get weights"
   ]
  },
  {
   "cell_type": "code",
   "execution_count": 21,
   "metadata": {},
   "outputs": [],
   "source": [
    "weights_0 = preds_0[:,0]/preds_0[:,1]\n",
    "weights_1 = preds_1[:,0]/preds_1[:,1]"
   ]
  },
  {
   "cell_type": "markdown",
   "metadata": {},
   "source": [
    "## Analyze weights"
   ]
  },
  {
   "cell_type": "code",
   "execution_count": 22,
   "metadata": {},
   "outputs": [
    {
     "name": "stdout",
     "output_type": "stream",
     "text": [
      "1.8693694\n",
      "2.2649448\n",
      "4.3250284\n",
      "5.2289243\n"
     ]
    }
   ],
   "source": [
    "print(max(weights_0))\n",
    "print(max(1/weights_0))\n",
    "print(max(weights_1))\n",
    "print(max(1/weights_1))"
   ]
  },
  {
   "cell_type": "code",
   "execution_count": 23,
   "metadata": {},
   "outputs": [
    {
     "data": {
      "image/png": "[encoded data removed]",
      "text/plain": [
       "<Figure size 432x288 with 1 Axes>"
      ]
     },
     "metadata": {
      "needs_background": "light"
     },
     "output_type": "display_data"
    }
   ],
   "source": [
    "clip_val = 3\n",
    "bins = np.linspace(0, clip_val, 101)\n",
    "plt.hist(np.clip(weights_0, 0, clip_val), bins = bins)\n",
    "plt.xlabel(\"Weight\")\n",
    "plt.ylabel('Jets per bin (normalized)')\n",
    "plt.title(\"Weights \" + label_0 + r' $\\rightarrow$ ' + label_0, fontsize=20)\n",
    "plt.show()"
   ]
  },
  {
   "cell_type": "code",
   "execution_count": 24,
   "metadata": {},
   "outputs": [
    {
     "data": {
      "image/png": "[encoded data removed]",
      "text/plain": [
       "<Figure size 432x288 with 1 Axes>"
      ]
     },
     "metadata": {
      "needs_background": "light"
     },
     "output_type": "display_data"
    }
   ],
   "source": [
    "clip_val = 3\n",
    "bins = np.linspace(0, clip_val, 101)\n",
    "plt.hist(np.clip(weights_1, 0, clip_val), bins = bins)\n",
    "plt.xlabel(\"Weight\")\n",
    "plt.ylabel('Jets per bin (normalized)')\n",
    "plt.title(\"Weights \" + label_0 + r' $\\rightarrow$ ' + label_1, fontsize=20)\n",
    "plt.show()"
   ]
  },
  {
   "cell_type": "markdown",
   "metadata": {},
   "source": [
    "# Validation Plots"
   ]
  },
  {
   "cell_type": "code",
   "execution_count": 25,
   "metadata": {},
   "outputs": [],
   "source": [
    "# Define default plot styles\n",
    "plot_style_0 = {'histtype':'step', 'color':'black', 'linewidth':2, 'linestyle':'--', 'density':True}\n",
    "plot_style_1 = {'alpha':0.5, 'density':True}"
   ]
  },
  {
   "cell_type": "markdown",
   "metadata": {},
   "source": [
    "## Multiplicity"
   ]
  },
  {
   "cell_type": "code",
   "execution_count": 26,
   "metadata": {},
   "outputs": [
    {
     "data": {
      "image/png": "[encoded data removed]",
      "text/plain": [
       "<Figure size 432x360 with 1 Axes>"
      ]
     },
     "metadata": {
      "needs_background": "light"
     },
     "output_type": "display_data"
    }
   ],
   "source": [
    "plt.figure(figsize=(6,5))\n",
    "bins = np.linspace(0,40,21)\n",
    "hist0 = plt.hist(test_dataset_0['multiplicity'], bins = bins, label = label_0, **plot_style_0)\n",
    "hist1 = plt.hist(test_dataset_1['multiplicity'], bins = bins, label = label_1, **plot_style_1)\n",
    "hist2 = plt.hist(test_dataset_1['multiplicity'], bins = bins, label = label_1 + ' wgt.', weights=weights_1, **plot_style_1)\n",
    "\n",
    "plt.xlabel('Multiplicity')\n",
    "plt.ylabel('Jets per bin (normalized)')\n",
    "plt.xlim([0,40])\n",
    "make_legend()\n",
    "plt.show()"
   ]
  },
  {
   "cell_type": "markdown",
   "metadata": {},
   "source": [
    "## Nsubjettiness"
   ]
  },
  {
   "cell_type": "markdown",
   "metadata": {},
   "source": [
    "### tau21"
   ]
  },
  {
   "cell_type": "code",
   "execution_count": 27,
   "metadata": {},
   "outputs": [
    {
     "data": {
      "image/png": "[encoded data removed]",
      "text/plain": [
       "<Figure size 432x360 with 1 Axes>"
      ]
     },
     "metadata": {
      "needs_background": "light"
     },
     "output_type": "display_data"
    }
   ],
   "source": [
    "plt.figure(figsize=(6,5))\n",
    "bins = np.linspace(0,1,31)\n",
    "hist0 = plt.hist(test_dataset_0['tau21'], bins=bins, label=label_0, **plot_style_0)\n",
    "hist1 = plt.hist(test_dataset_1['tau21'], bins=bins, label=label_1, **plot_style_1)\n",
    "hist2 = plt.hist(test_dataset_1['tau21'], bins=bins, label=label_1 +' wgt.',  weights= weights_1, **plot_style_1)\n",
    "\n",
    "plt.xlabel('tau21')\n",
    "plt.ylabel('Jets per bin (normalized)')\n",
    "make_legend()\n",
    "plt.show()"
   ]
  },
  {
   "cell_type": "markdown",
   "metadata": {},
   "source": [
    "### tau32"
   ]
  },
  {
   "cell_type": "code",
   "execution_count": 28,
   "metadata": {},
   "outputs": [
    {
     "data": {
      "image/png": "[encoded data removed]",
      "text/plain": [
       "<Figure size 432x360 with 1 Axes>"
      ]
     },
     "metadata": {
      "needs_background": "light"
     },
     "output_type": "display_data"
    }
   ],
   "source": [
    "plt.figure(figsize=(6,5))\n",
    "bins = np.linspace(0,1,31)\n",
    "hist0 = plt.hist(test_dataset_0['tau32'], bins=bins, label=label_0, **plot_style_0)\n",
    "hist1 = plt.hist(test_dataset_1['tau32'], bins=bins, label=label_1, **plot_style_1)\n",
    "hist2 = plt.hist(test_dataset_1['tau32'], bins=bins, label=label_1 +' wgt.',  weights= weights_1, **plot_style_1)\n",
    "\n",
    "plt.xlabel('tau32')\n",
    "plt.ylabel('Jets per bin (normalized)')\n",
    "make_legend()\n",
    "plt.show()"
   ]
  },
  {
   "cell_type": "markdown",
   "metadata": {},
   "source": [
    "## ECF"
   ]
  },
  {
   "cell_type": "markdown",
   "metadata": {},
   "source": [
    "### N=3, $\\beta$=4"
   ]
  },
  {
   "cell_type": "code",
   "execution_count": 29,
   "metadata": {},
   "outputs": [
    {
     "name": "stderr",
     "output_type": "stream",
     "text": [
      "/home/aandreassen/.local/lib/python3.5/site-packages/ipykernel_launcher.py:3: RuntimeWarning: divide by zero encountered in log\n",
      "  This is separate from the ipykernel package so we can avoid doing imports until\n",
      "/home/aandreassen/.local/lib/python3.5/site-packages/ipykernel_launcher.py:4: RuntimeWarning: divide by zero encountered in log\n",
      "  after removing the cwd from sys.path.\n",
      "/home/aandreassen/.local/lib/python3.5/site-packages/ipykernel_launcher.py:5: RuntimeWarning: divide by zero encountered in log\n",
      "  \"\"\"\n"
     ]
    },
    {
     "data": {
      "image/png": "[encoded data removed]",
      "text/plain": [
       "<Figure size 432x360 with 1 Axes>"
      ]
     },
     "metadata": {
      "needs_background": "light"
     },
     "output_type": "display_data"
    }
   ],
   "source": [
    "plt.figure(figsize=(6,5))\n",
    "bins = np.linspace(-15,5,31)\n",
    "hist1 = plt.hist(np.log(test_dataset_0['ECF_N3_B4']), bins=bins, label=label_0, **plot_style_0)\n",
    "hist2 = plt.hist(np.log(test_dataset_1['ECF_N3_B4']), bins=bins, label=label_1, **plot_style_1)\n",
    "hist3 = plt.hist(np.log(test_dataset_1['ECF_N3_B4']), bins=bins, label=label_1 +' wgt.',  weights= weights_1, **plot_style_1)\n",
    "\n",
    "plt.xlabel('log ECF(N=3, beta=4)')\n",
    "plt.ylabel('Jets per bin (normalized)')\n",
    "make_legend()\n",
    "plt.show()"
   ]
  },
  {
   "cell_type": "markdown",
   "metadata": {},
   "source": [
    "### N=4, $\\beta$=4"
   ]
  },
  {
   "cell_type": "code",
   "execution_count": 30,
   "metadata": {},
   "outputs": [
    {
     "name": "stderr",
     "output_type": "stream",
     "text": [
      "/home/aandreassen/.local/lib/python3.5/site-packages/ipykernel_launcher.py:3: RuntimeWarning: divide by zero encountered in log\n",
      "  This is separate from the ipykernel package so we can avoid doing imports until\n",
      "/home/aandreassen/.local/lib/python3.5/site-packages/ipykernel_launcher.py:4: RuntimeWarning: divide by zero encountered in log\n",
      "  after removing the cwd from sys.path.\n",
      "/home/aandreassen/.local/lib/python3.5/site-packages/ipykernel_launcher.py:5: RuntimeWarning: divide by zero encountered in log\n",
      "  \"\"\"\n"
     ]
    },
    {
     "data": {
      "image/png": "[encoded data removed]",
      "text/plain": [
       "<Figure size 432x360 with 1 Axes>"
      ]
     },
     "metadata": {
      "needs_background": "light"
     },
     "output_type": "display_data"
    }
   ],
   "source": [
    "plt.figure(figsize=(6,5))\n",
    "bins = np.linspace(-35,5,31)\n",
    "hist1 = plt.hist(np.log(test_dataset_0['ECF_N4_B4']), bins=bins, label=label_0, **plot_style_0)\n",
    "hist2 = plt.hist(np.log(test_dataset_1['ECF_N4_B4']), bins=bins, label=label_1, **plot_style_1)\n",
    "hist3 = plt.hist(np.log(test_dataset_1['ECF_N4_B4']), bins=bins, label=label_1 +' wgt.',  weights= weights_1, **plot_style_1)\n",
    "\n",
    "plt.xlabel('log ECF(N=4, beta=4)')\n",
    "plt.ylabel('Jets per bin (normalized)')\n",
    "make_legend()\n",
    "plt.show()"
   ]
  },
  {
   "cell_type": "markdown",
   "metadata": {},
   "source": [
    "## Kaons"
   ]
  },
  {
   "cell_type": "code",
   "execution_count": 31,
   "metadata": {},
   "outputs": [
    {
     "data": {
      "image/png": "[encoded data removed]",
      "text/plain": [
       "<Figure size 432x360 with 1 Axes>"
      ]
     },
     "metadata": {
      "needs_background": "light"
     },
     "output_type": "display_data"
    }
   ],
   "source": [
    "plt.figure(figsize=(6,5))\n",
    "bins = np.linspace(0,10,11)\n",
    "hist0 = plt.hist(test_dataset_0['number_of_kaons'], bins=bins, label=label_0, **plot_style_0)\n",
    "hist1 = plt.hist(test_dataset_1['number_of_kaons'], bins=bins, label=label_1, **plot_style_1)\n",
    "hist2 = plt.hist(test_dataset_1['number_of_kaons'], bins=bins, label=label_1 +' wgt.',  weights= weights_1, **plot_style_1)\n",
    "\n",
    "plt.xlabel('Number of kaons')\n",
    "plt.ylabel('Jets per bin (normalized)')\n",
    "make_legend()\n",
    "plt.show()"
   ]
  },
  {
   "cell_type": "markdown",
   "metadata": {},
   "source": [
    "# Fitting"
   ]
  },
  {
   "cell_type": "markdown",
   "metadata": {},
   "source": [
    "## Loss Curve Model"
   ]
  },
  {
   "cell_type": "code",
   "execution_count": 32,
   "metadata": {},
   "outputs": [],
   "source": [
    "class AddParams2Input(keras.layers.Layer):\n",
    "    \"\"\" Custom layer for tuning with DCTR: \n",
    "    Arguments:\n",
    "    - n_MC_params : (int) - the number of n_MC_params that are in X_dim\n",
    "    - default_MC_params : (list of floats) - default values for each of the MC parameters\n",
    "    - trainable_MC_params : (list of booleans) - True for parameters that you want to fit, false for parameters that should be fixed at default value\n",
    "\n",
    "    Usage: \n",
    "    Let X_dim be the input dimension of each particle to a PFN model, and n_MC_params be the number of MC parameters. \n",
    "    Defines a Layer that takes in an array of dimension \n",
    "    (batch_size, padded_multiplicity, X_dim - n_MC_params)\n",
    "    This layer appends each particle by the default_MC_params and makes then trainable or non-trainable based on trainable_MC_params\n",
    "    \"\"\"\n",
    "    \n",
    "    def __init__(self, n_MC_params, default_MC_params, trainable_MC_params):\n",
    "        super(AddParams2Input, self).__init__()\n",
    "        # Definitions\n",
    "        self.n_MC_params = n_MC_params\n",
    "        self.MC_params = default_MC_params\n",
    "        self.trainable_MC_params = trainable_MC_params\n",
    "\n",
    "    \n",
    "    def build(self, input_shape):\n",
    "        # Convert input MC parameters to weights and make then trainable or non-trainable\n",
    "        for i in range(self.n_MC_params):\n",
    "            self.MC_params[i] = self.add_weight(name='MC_param_{}'.format(i), \n",
    "                                                shape=(1, 1),\n",
    "                                                initializer=keras.initializers.Constant(self.MC_params[i]),\n",
    "                                                trainable=self.trainable_MC_params[i])\n",
    "            \n",
    "        self.MC_params = keras.backend.tf.concat(self.MC_params, axis = -1)\n",
    "        super(AddParams2Input, self).build(input_shape)\n",
    "    \n",
    "    def call(self, input):\n",
    "        # Add MC params to each input particle (but not to the padded rows)\n",
    "        concat_input_and_params = keras.backend.tf.where(keras.backend.abs(input[...,0])>0,\n",
    "                                                         self.MC_params*keras.backend.ones_like(input[...,0:self.n_MC_params]),\n",
    "                                                         keras.backend.zeros_like(input[...,0:self.n_MC_params]))\n",
    "        return keras.backend.concatenate([input, concat_input_and_params], -1)\n",
    "    \n",
    "    def compute_output_shape(self, input_shape):\n",
    "        return (input_shape[0], input_shape[1]+self.n_MC_params)"
   ]
  },
  {
   "cell_type": "code",
   "execution_count": 33,
   "metadata": {},
   "outputs": [],
   "source": [
    "def get_DCTR_fit_model(DCTR_model, \n",
    "                       X_dim, \n",
    "                       n_MC_params, \n",
    "                       default_MC_params,\n",
    "                       trainable_MC_params):\n",
    "    \"\"\" \n",
    "    Get a DCTR model that trains on the input MC parameters\n",
    "    \n",
    "    Arguments:\n",
    "    - DCTR_model : a PFN model that has been trained on a to continuously interpolate over the input MC dimensions\n",
    "    - X_dim : (int) - the dimension of the input expected by DCTR_model\n",
    "    - n_MC_params : (int) - the number of n_MC_params that are in X_dim\n",
    "    - default_MC_params : (list of floats) - default values for each of the MC parameters\n",
    "    - trainable_MC_params : (list of booleans) - True for parameters that you want to fit, false for parameters that should be fixed at default value\n",
    "\n",
    "    Returns:\n",
    "    - DCTR_fit_model: a compiled model that gradient descends only on the trainable MC parameters\n",
    "    \"\"\"\n",
    "    \n",
    "    # Do sanity checks on inputs\n",
    "    assert X_dim >=n_MC_params, \"X_dim must be larger than n_MC_params. X_dim includes the dimensionality of the 4-vector + number of MC parameters\"\n",
    "    assert n_MC_params == len(default_MC_params), \"Dimension mismatch between n_MC_params and number of default MC parameters given. len(default_MC_params) must equal n_MC_params\"\n",
    "    assert n_MC_params == len(trainable_MC_params), \"Dimension mismatch between n_MC_params and trainable_MC_params. len(trainable_MC_params) must equal n_MC_params.\"\n",
    "    assert np.any(trainable_MC_params), \"All parameters are set to non-trainable.\"\n",
    "    \n",
    "    # Define input to DCTR_fit_model\n",
    "    non_param_input = keras.layers.Input((None, X_dim - n_MC_params))\n",
    "\n",
    "    # Construct layer that adds trainable and non-trainable parameters to the input\n",
    "    add_params_layer = AddParams2Input(n_MC_params, default_MC_params, trainable_MC_params)\n",
    "    time_dist     = keras.layers.TimeDistributed(add_params_layer, name='tdist')(non_param_input)     \n",
    "\n",
    "    # Set all weights in DCTR_model to non-trainable\n",
    "    for layer in DCTR_model.model.layers:\n",
    "        layer.trainable = False\n",
    "        \n",
    "    # get the graph and the weights from the DCTR_model\n",
    "    output = DCTR_model.model(inputs = time_dist)\n",
    "\n",
    "    # Define full model\n",
    "    DCTR_fit_model = fitmodel = keras.models.Model(inputs = non_param_input, outputs = output)\n",
    "    \n",
    "    optimizer = keras.optimizers.Adam(lr=1e-4)\n",
    "    \n",
    "    # Compile with loss function\n",
    "    DCTR_fit_model.compile(optimizer=optimizer, loss='categorical_crossentropy')\n",
    "    \n",
    "    return DCTR_fit_model"
   ]
  },
  {
   "cell_type": "code",
   "execution_count": 34,
   "metadata": {},
   "outputs": [
    {
     "name": "stdout",
     "output_type": "stream",
     "text": [
      "_________________________________________________________________\n",
      "Layer (type)                 Output Shape              Param #   \n",
      "=================================================================\n",
      "input_1 (InputLayer)         (None, None, 4)           0         \n",
      "_________________________________________________________________\n",
      "tdist (TimeDistributed)      (None, None, 7)           3         \n",
      "_________________________________________________________________\n",
      "model_1 (Model)              (None, 2)                 57130     \n",
      "=================================================================\n",
      "Total params: 57,133\n",
      "Trainable params: 1\n",
      "Non-trainable params: 57,132\n",
      "_________________________________________________________________\n"
     ]
    }
   ],
   "source": [
    "dctr_fit_model = get_DCTR_fit_model(dctr, \n",
    "                       X_dim =7, \n",
    "                       n_MC_params = 3, \n",
    "                       default_MC_params   = [0.1365, 0.68, 0.217], # default params for [alpha_s, aLund, StoUD]\n",
    "                       trainable_MC_params = [True, False, False]) # Only train alpha_s\n",
    "\n",
    "dctr_fit_model.summary()"
   ]
  },
  {
   "cell_type": "code",
   "execution_count": 35,
   "metadata": {},
   "outputs": [],
   "source": [
    "def set_MC_params(dctr_fit_model, MC_params):\n",
    "    alphaS, aLund, StoUD = MC_params\n",
    "    weights = [np.array([[alphaS]],   dtype=np.float32),\n",
    "               np.array([[aLund]],    dtype=np.float32),\n",
    "               np.array([[StoUD]], dtype=np.float32)]\n",
    "    dctr_fit_model.layers[1].set_weights(weights)"
   ]
  },
  {
   "cell_type": "code",
   "execution_count": 36,
   "metadata": {},
   "outputs": [
    {
     "data": {
      "text/plain": [
       "[array([[0.1365]], dtype=float32),\n",
       " array([[0.68]], dtype=float32),\n",
       " array([[0.217]], dtype=float32)]"
      ]
     },
     "execution_count": 36,
     "metadata": {},
     "output_type": "execute_result"
    }
   ],
   "source": [
    "dctr_fit_model.layers[1].get_weights()"
   ]
  },
  {
   "cell_type": "markdown",
   "metadata": {},
   "source": [
    "## Load Data"
   ]
  },
  {
   "cell_type": "code",
   "execution_count": 37,
   "metadata": {},
   "outputs": [],
   "source": [
    "default_dataset = np.load(data_dir + 'test1D_default.npz')\n",
    "unknown_dataset = np.load(data_dir + 'test1D_alphaS.npz')"
   ]
  },
  {
   "cell_type": "code",
   "execution_count": 38,
   "metadata": {},
   "outputs": [],
   "source": [
    "X_default = preprocess_data(default_dataset['jet'][:,:,:4])\n",
    "X_unknown = preprocess_data(unknown_dataset['jet'][:,:,:4])\n",
    "\n",
    "Y_default = np.zeros_like(X_unknown[:,0,0])\n",
    "Y_unknown = np.ones_like(X_unknown[:,0,0])"
   ]
  },
  {
   "cell_type": "code",
   "execution_count": 39,
   "metadata": {},
   "outputs": [],
   "source": [
    "X_fit = np.concatenate((X_default, X_unknown), axis = 0)\n",
    "\n",
    "Y_fit = np.concatenate((Y_default, Y_unknown), axis = 0)\n",
    "Y_fit = to_categorical(Y_fit, num_classes=2)"
   ]
  },
  {
   "cell_type": "code",
   "execution_count": 40,
   "metadata": {},
   "outputs": [],
   "source": [
    "X_fit, _, Y_fit, _ = data_split(X_fit, Y_fit, test=0, shuffle=True)"
   ]
  },
  {
   "cell_type": "markdown",
   "metadata": {},
   "source": [
    "## Evaluate Loss as a function of MC parameter"
   ]
  },
  {
   "cell_type": "code",
   "execution_count": 41,
   "metadata": {},
   "outputs": [],
   "source": [
    "def get_loss(X, Y, dctr_fit_model, MC_params, batch_size = 1000):\n",
    "    set_MC_params(dctr_fit_model, MC_params)\n",
    "    return dctr_fit_model.evaluate(x=X, y = Y, batch_size=batch_size)"
   ]
  },
  {
   "cell_type": "code",
   "execution_count": 42,
   "metadata": {
    "scrolled": true
   },
   "outputs": [
    {
     "name": "stdout",
     "output_type": "stream",
     "text": [
      "1800000/1800000 [==============================] - 8s 4us/step\n",
      "1800000/1800000 [==============================] - 8s 4us/step\n",
      "1800000/1800000 [==============================] - 8s 4us/step\n",
      "1800000/1800000 [==============================] - 8s 4us/step\n",
      "1800000/1800000 [==============================] - 8s 4us/step\n",
      "1800000/1800000 [==============================] - 8s 4us/step\n",
      "1800000/1800000 [==============================] - 8s 4us/step\n",
      "1800000/1800000 [==============================] - 8s 4us/step\n",
      "1800000/1800000 [==============================] - 8s 4us/step\n",
      "1800000/1800000 [==============================] - 7s 4us/step\n",
      "1800000/1800000 [==============================] - 7s 4us/step\n",
      "1800000/1800000 [==============================] - 8s 4us/step\n",
      "1800000/1800000 [==============================] - 7s 4us/step\n",
      "1800000/1800000 [==============================] - 7s 4us/step\n",
      "1800000/1800000 [==============================] - 7s 4us/step\n",
      "1800000/1800000 [==============================] - 7s 4us/step\n",
      "1800000/1800000 [==============================] - 7s 4us/step\n",
      "1800000/1800000 [==============================] - 8s 4us/step\n",
      "1800000/1800000 [==============================] - 8s 4us/step\n",
      "1800000/1800000 [==============================] - 8s 4us/step\n",
      "1800000/1800000 [==============================] - 8s 4us/step\n",
      "1800000/1800000 [==============================] - 8s 4us/step\n",
      "1800000/1800000 [==============================] - 8s 4us/step\n",
      "1800000/1800000 [==============================] - 8s 4us/step\n",
      "1800000/1800000 [==============================] - 8s 4us/step\n",
      "1800000/1800000 [==============================] - 8s 4us/step\n",
      "1800000/1800000 [==============================] - 8s 4us/step\n",
      "1800000/1800000 [==============================] - 8s 4us/step\n",
      "1800000/1800000 [==============================] - 8s 4us/step\n",
      "1800000/1800000 [==============================] - 8s 4us/step\n",
      "1800000/1800000 [==============================] - 8s 4us/step\n"
     ]
    }
   ],
   "source": [
    "alpha_loss = np.array([(a, get_loss(X_fit, Y_fit, dctr_fit_model, [a, 0.68, 0.217])) for a in np.linspace(0.1,0.18, 31)])"
   ]
  },
  {
   "cell_type": "code",
   "execution_count": 43,
   "metadata": {},
   "outputs": [
    {
     "data": {
      "image/png": "[encoded data removed]",
      "text/plain": [
       "<Figure size 432x288 with 1 Axes>"
      ]
     },
     "metadata": {
      "needs_background": "light"
     },
     "output_type": "display_data"
    }
   ],
   "source": [
    "plt.plot(*alpha_loss.T, label = label_1)\n",
    "plt.ylabel('Loss')\n",
    "plt.xlabel(r'$\\alpha_s$')\n",
    "plt.legend()\n",
    "plt.tight_layout()\n",
    "plt.show()"
   ]
  },
  {
   "cell_type": "code",
   "execution_count": 44,
   "metadata": {},
   "outputs": [
    {
     "data": {
      "text/plain": [
       "array([0.16133332])"
      ]
     },
     "execution_count": 44,
     "metadata": {},
     "output_type": "execute_result"
    }
   ],
   "source": [
    "def get_min_loss(losses, x0):\n",
    "    f = sp.interpolate.interp1d(losses[:,0], losses[:,1], fill_value=\"extrapolate\")\n",
    "    return sp.optimize.minimize(f, x0=x0)['x']\n",
    "\n",
    "get_min_loss(alpha_loss, x0=0.1365)"
   ]
  },
  {
   "cell_type": "markdown",
   "metadata": {},
   "source": [
    "## Tune with Gradient Descent"
   ]
  },
  {
   "cell_type": "code",
   "execution_count": 45,
   "metadata": {},
   "outputs": [],
   "source": [
    "print_weights = keras.callbacks.LambdaCallback(on_epoch_end=lambda batch, logs: print(\"alpha_s fit = \", \n",
    "                                               dctr_fit_model.get_weights()[0][0][0]))\n",
    "fit_vals = [0.1365]\n",
    "append_weights = keras.callbacks.LambdaCallback(on_epoch_end=lambda batch, logs: \n",
    "                                               fit_vals.append(dctr_fit_model.get_weights()[0][0][0]))\n",
    "\n",
    "callbacks = [print_weights, append_weights]"
   ]
  },
  {
   "cell_type": "code",
   "execution_count": 46,
   "metadata": {
    "scrolled": true
   },
   "outputs": [
    {
     "name": "stdout",
     "output_type": "stream",
     "text": [
      "Epoch 1/10\n",
      "1800000/1800000 [==============================] - 9s 5us/step - loss: 0.6766\n",
      "alpha_s fit =  0.16590467\n",
      "Epoch 2/10\n",
      "1800000/1800000 [==============================] - 9s 5us/step - loss: 0.6726\n",
      "alpha_s fit =  0.16108504\n",
      "Epoch 3/10\n",
      "1800000/1800000 [==============================] - 9s 5us/step - loss: 0.6723\n",
      "alpha_s fit =  0.16047928\n",
      "Epoch 4/10\n",
      "1800000/1800000 [==============================] - 9s 5us/step - loss: 0.6723\n",
      "alpha_s fit =  0.1602622\n",
      "Epoch 5/10\n",
      "1800000/1800000 [==============================] - 9s 5us/step - loss: 0.6723\n",
      "alpha_s fit =  0.16034888\n",
      "Epoch 6/10\n",
      "1800000/1800000 [==============================] - 9s 5us/step - loss: 0.6723\n",
      "alpha_s fit =  0.16043116\n",
      "Epoch 7/10\n",
      "1800000/1800000 [==============================] - 9s 5us/step - loss: 0.6723\n",
      "alpha_s fit =  0.16037811\n",
      "Epoch 8/10\n",
      "1800000/1800000 [==============================] - 9s 5us/step - loss: 0.6723\n",
      "alpha_s fit =  0.16029431\n",
      "Epoch 9/10\n",
      "1800000/1800000 [==============================] - 9s 5us/step - loss: 0.6723\n",
      "alpha_s fit =  0.1604328\n",
      "Epoch 10/10\n",
      "1800000/1800000 [==============================] - 9s 5us/step - loss: 0.6723\n",
      "alpha_s fit =  0.16048825\n"
     ]
    },
    {
     "data": {
      "text/plain": [
       "<keras.callbacks.History at 0x7f0e403c85f8>"
      ]
     },
     "execution_count": 46,
     "metadata": {},
     "output_type": "execute_result"
    }
   ],
   "source": [
    "dctr_fit_model.fit(X_fit, Y_fit,\n",
    "                   epochs=10, \n",
    "                   batch_size=10000,\n",
    "                   callbacks = callbacks)"
   ]
  },
  {
   "cell_type": "code",
   "execution_count": 47,
   "metadata": {},
   "outputs": [
    {
     "data": {
      "image/png": "[encoded data removed]",
      "text/plain": [
       "<Figure size 432x288 with 1 Axes>"
      ]
     },
     "metadata": {
      "needs_background": "light"
     },
     "output_type": "display_data"
    }
   ],
   "source": [
    "plt.plot(fit_vals, marker='o')\n",
    "plt.xlabel(\"Epochs\")\n",
    "plt.ylabel(r'$\\alpha_s$')\n",
    "plt.show()"
   ]
  },
  {
   "cell_type": "code",
   "execution_count": null,
   "metadata": {},
   "outputs": [],
   "source": []
  }
 ],
 "metadata": {
  "kernelspec": {
   "display_name": "Python 3",
   "language": "python",
   "name": "python3"
  },
  "language_info": {
   "codemirror_mode": {
    "name": "ipython",
    "version": 3
   },
   "file_extension": ".py",
   "mimetype": "text/x-python",
   "name": "python",
   "nbconvert_exporter": "python",
   "pygments_lexer": "ipython3",
   "version": "3.5.2"
  }
 },
 "nbformat": 4,
 "nbformat_minor": 2
}
