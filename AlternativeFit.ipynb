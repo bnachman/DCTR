{
 "cells": [
  {
   "cell_type": "markdown",
   "metadata": {},
   "source": [
    "# Alternative DCTR fitting algorithm\n",
    "\n",
    "The DCTR paper (https://arxiv.org/abs/1907.08209) shows how a continuously parameterized NN used for reweighting:\n",
    "\n",
    "$f(x,\\theta)=\\text{argmax}_{f'}\\sum_{i\\in\\bf{\\theta}_0}\\log f'(x_i,\\theta)+\\sum_{i\\in\\bf{\\theta}}\\log (1-f'(x_i,\\theta))$\n",
    "\n",
    "can also be used for fitting:\n",
    "\n",
    "$\\theta^*=\\text{argmax}_{\\theta'}\\sum_{i\\in\\bf{\\theta}_0}\\log f(x_i,\\theta')+\\sum_{i\\in\\bf{\\theta}}\\log (1-f(x_i,\\theta'))$\n",
    "\n",
    "This works well when the reweighting and fitting happen on the same 'level'.  However, if the reweighting happens at truth level (before detector simulation) while the fit happens in data (after the effects of the detector), this procedure will not work.  It works only if the reweighting and fitting both happen at detector-level or both happen at truth-level.  This notebook illustrates an alternative procedure:\n",
    "\n",
    "$\\theta^*=\\text{argmax}_{\\theta'}\\text{min}_{g}\\sum_{i\\in\\bf{\\theta}_0}\\log g(x_i)+(f(x,\\theta')/(1-f(x,\\theta')))\\sum_{i\\in\\bf{\\theta}}\\log (1-g(x_i))$\n",
    "\n",
    "where the $f(x,\\theta')/(1-f(x,\\theta'))$ is the reweighting function.  The intuition of the above equation is that the classifier $g$ is trying to distinguish the two samples and we try to find a $\\theta$ that makes $g$'s task maximally hard.  If $g$ can't tell apart the two samples, then the reweighting has worked!  This is similar to the minimax graining of a GAN, only now the analog of the generator network is the reweighting network which is fixed and thus the only trainable parameters are the $\\theta'$.  The advantage of this second approach is that it readily generalizes to the case where the reweighting happens on a different level:\n",
    "\n",
    "$\\theta^*=\\text{argmax}_{\\theta'}\\text{min}_{g}\\sum_{i\\in\\bf{\\theta}_0}\\log g(x_{D,i})+(f(x_T,\\theta')/(1-f(x_T,\\theta')))\\sum_{i\\in\\bf{\\theta}}\\log (1-g(x_{D,i}))$\n",
    "\n",
    "where $x_T$ is the truth value and $x_D$ is the detector-level value.  In simulation (the second sum), these come in pairs and so one can apply the reweighting on one level and the classification on the other.  Asympotitically, both this method and the one in the body of the DCTR paper learn the same result: $\\theta^*=\\theta_0$."
   ]
  },
  {
   "cell_type": "code",
   "execution_count": 2,
   "metadata": {},
   "outputs": [],
   "source": [
    "import tensorflow as tf\n",
    "import numpy as np\n",
    "from matplotlib import pyplot as plt\n",
    "from sklearn.utils import shuffle\n",
    "from sklearn.model_selection import train_test_split\n",
    "from keras.utils import to_categorical\n",
    "from keras import Sequential\n",
    "from keras.layers import Lambda, Dense, Input, Layer, Dropout\n",
    "from keras.models import Model\n",
    "from keras.utils import to_categorical\n",
    "from keras.callbacks import LambdaCallback\n",
    "import keras.backend as K\n",
    "import keras "
   ]
  },
  {
   "cell_type": "markdown",
   "metadata": {},
   "source": [
    "# Setup the dataset\n",
    "\n",
    "We'll show the new setup with a simple Gaussian example.  Let's start by setting up the dataset."
   ]
  },
  {
   "cell_type": "code",
   "execution_count": 30,
   "metadata": {},
   "outputs": [],
   "source": [
    "N = 1000000\n",
    "theta0_param = 0 #this is the simulation ... N.B. this notation is reversed from above!\n",
    "theta1_param = 1 #this is the data (the target)\n",
    "\n",
    "theta0 = np.random.normal(theta0_param,1,N)\n",
    "theta1 = np.random.normal(theta1_param,1,N)\n",
    "labels0 = np.zeros(len(theta0))\n",
    "labels1 = np.ones(len(theta1))\n",
    "\n",
    "xvals = np.concatenate([theta0,theta1])\n",
    "yvals = np.concatenate([labels0,labels1])\n",
    "\n",
    "X_train, X_test, y_train, y_test = train_test_split(xvals, yvals, test_size=0.5)"
   ]
  },
  {
   "cell_type": "code",
   "execution_count": 31,
   "metadata": {},
   "outputs": [
    {
     "data": {
      "text/plain": [
       "<matplotlib.legend.Legend at 0x1787fe630>"
      ]
     },
     "execution_count": 31,
     "metadata": {},
     "output_type": "execute_result"
    },
    {
     "data": {
      "image/png": "[encoded data removed]",
      "text/plain": [
       "<matplotlib.figure.Figure at 0x16362d4a8>"
      ]
     },
     "metadata": {},
     "output_type": "display_data"
    }
   ],
   "source": [
    "n, bins, patches=plt.hist(X_train[y_train==1],bins=100,alpha=0.5,label=\"Data\")\n",
    "_=plt.hist(X_train[y_train==0],bins=bins,alpha=0.5,label=\"Simulation\")\n",
    "plt.legend()"
   ]
  },
  {
   "cell_type": "markdown",
   "metadata": {},
   "source": [
    "# Weight Model\n",
    "\n",
    "Let's show that the reweighting works by training a DCTR model."
   ]
  },
  {
   "cell_type": "code",
   "execution_count": 84,
   "metadata": {},
   "outputs": [],
   "source": [
    "theta_min = -2\n",
    "theta_max = 2\n",
    "\n",
    "theta_many = np.random.uniform(theta_min,theta_max,N)\n",
    "vals_many = np.random.normal(theta_many,1,N)\n",
    "simulation = list(zip(vals_many,theta_many))\n",
    "\n",
    "vals_target = np.random.normal(theta1_param,1,N)\n",
    "data = list(zip(vals_target,theta_many))"
   ]
  },
  {
   "cell_type": "code",
   "execution_count": 85,
   "metadata": {},
   "outputs": [],
   "source": [
    "model_weight = Sequential()\n",
    "model_weight.add(Dense(20, input_dim=2, activation='relu'))\n",
    "model_weight.add(Dense(40, activation='relu'))\n",
    "model_weight.add(Dense(1, activation='sigmoid'))"
   ]
  },
  {
   "cell_type": "code",
   "execution_count": 86,
   "metadata": {},
   "outputs": [],
   "source": [
    "data_labels = np.ones(len(data))\n",
    "simulation_labels = np.zeros(len(simulation))\n",
    "X = np.concatenate((data, simulation))\n",
    "Y = np.concatenate((data_labels, simulation_labels))\n",
    "X_train_weight, X_test_weight, Y_train_weight, Y_test_weight = train_test_split(X, Y, test_size=0.5)"
   ]
  },
  {
   "cell_type": "code",
   "execution_count": 87,
   "metadata": {},
   "outputs": [],
   "source": [
    "model_weight.compile(loss='binary_crossentropy', optimizer='adam', metrics=['accuracy'])"
   ]
  },
  {
   "cell_type": "code",
   "execution_count": 88,
   "metadata": {},
   "outputs": [
    {
     "name": "stdout",
     "output_type": "stream",
     "text": [
      "Epoch 1/3\n",
      "1000000/1000000 [==============================] - 3s 3us/step - loss: 0.5457 - acc: 0.6916\n",
      "Epoch 2/3\n",
      "1000000/1000000 [==============================] - 2s 2us/step - loss: 0.5124 - acc: 0.7114\n",
      "Epoch 3/3\n",
      "1000000/1000000 [==============================] - 2s 2us/step - loss: 0.5101 - acc: 0.7138\n"
     ]
    },
    {
     "data": {
      "text/plain": [
       "<keras.callbacks.History at 0x10af3bcf8>"
      ]
     },
     "execution_count": 88,
     "metadata": {},
     "output_type": "execute_result"
    }
   ],
   "source": [
    "model_weight.fit(X_train_weight, Y_train_weight, epochs=3, batch_size=5000)"
   ]
  },
  {
   "cell_type": "code",
   "execution_count": 38,
   "metadata": {},
   "outputs": [],
   "source": [
    "exact_weights = np.exp(-0.5*(theta0-theta1_param)**2+0.5*(theta0-theta0_param)**2)"
   ]
  },
  {
   "cell_type": "code",
   "execution_count": 89,
   "metadata": {},
   "outputs": [],
   "source": [
    "pred_input = np.array(list(zip(theta0,theta0_param*np.ones(len(theta0)))))\n",
    "preds = model_weight.predict(pred_input)"
   ]
  },
  {
   "cell_type": "code",
   "execution_count": 90,
   "metadata": {},
   "outputs": [],
   "source": [
    "pred_weights = preds/(1.-preds)"
   ]
  },
  {
   "cell_type": "code",
   "execution_count": 91,
   "metadata": {},
   "outputs": [
    {
     "data": {
      "image/png": "[encoded data removed]",
      "text/plain": [
       "<matplotlib.figure.Figure at 0x158d99668>"
      ]
     },
     "metadata": {},
     "output_type": "display_data"
    }
   ],
   "source": [
    "bins = np.linspace(0,10,51)\n",
    "plt.hist(np.clip(exact_weights, bins[0], bins[-1]), bins=bins, alpha=0.5, label='Exact')\n",
    "plt.hist(np.clip(pred_weights, bins[0], bins[-1]), bins=bins, alpha=0.5, label='Predicted')\n",
    "plt.title(\"Compare exact and Predicted Weights\")\n",
    "plt.legend(loc=1)\n",
    "plt.xlabel(\"Weight\")\n",
    "plt.show()"
   ]
  },
  {
   "cell_type": "code",
   "execution_count": 92,
   "metadata": {},
   "outputs": [
    {
     "data": {
      "image/png": "[encoded data removed]",
      "text/plain": [
       "<matplotlib.figure.Figure at 0x180d0eef0>"
      ]
     },
     "metadata": {},
     "output_type": "display_data"
    }
   ],
   "source": [
    "bins = np.linspace(-4,4,31)\n",
    "plt.hist(theta0, bins = bins, alpha=0.5, label='Default')\n",
    "plt.hist(theta0, bins = bins, alpha=0.5, weights=pred_weights,label='Predicted weighted')\n",
    "plt.hist(theta0, bins = bins, alpha=0.5, weights=exact_weights,label='Exact weighted')\n",
    "plt.hist(theta1, bins = bins, alpha=0.2, label='Data')\n",
    "plt.legend(loc=0)\n",
    "plt.title(\"Reweighted with Predicted Weights\")\n",
    "plt.show()"
   ]
  },
  {
   "cell_type": "markdown",
   "metadata": {},
   "source": [
    "Now, for the fitting part, let's factorize the problem and assume we already have a good DCTR model.  In this Gaussian case, we know the right answer so we can just use the exact reweighting instead of the NN one."
   ]
  },
  {
   "cell_type": "markdown",
   "metadata": {},
   "source": [
    "# Fitting Model\n",
    "\n",
    "We'll start by showing that for fixed $\\theta$, the maximum loss occurs when $\\theta=\\theta_1$."
   ]
  },
  {
   "cell_type": "code",
   "execution_count": 94,
   "metadata": {},
   "outputs": [],
   "source": [
    "K.clear_session()\n",
    "\n",
    "myinputs = Input(shape=(1,))\n",
    "\n",
    "x = Dense(128, activation='relu')(myinputs)\n",
    "x2 = Dense(128, activation='relu')(x)\n",
    "predictions = Dense(1, activation='sigmoid')(x2)\n",
    "          \n",
    "model = Model(inputs=myinputs, outputs=predictions)\n",
    "#model.summary()\n",
    "\n",
    "def my_loss_wrapper(inputs,val=0.0):\n",
    "    x  = inputs #[:,1:]\n",
    "    theta = 0. #starting value\n",
    "    theta0 = val #target value\n",
    "    weight = K.exp(-(0.5*(x-theta0)**2)+(0.5*(x-theta)**2))\n",
    "    def my_loss(y_true,y_pred):\n",
    "        t_loss = y_true*(y_true - y_pred)**2+(weight**2)*(1.-y_true)*(y_true - y_pred)**2\n",
    "        return K.mean(t_loss)\n",
    "    return my_loss"
   ]
  },
  {
   "cell_type": "code",
   "execution_count": 100,
   "metadata": {},
   "outputs": [
    {
     "name": "stdout",
     "output_type": "stream",
     "text": [
      "Train on 1000000 samples, validate on 1000000 samples\n",
      "Epoch 1/1\n",
      "1000000/1000000 [==============================] - 16s 16us/step - loss: 0.1989 - acc: 0.6914 - val_loss: 0.1990 - val_acc: 0.6916\n",
      "Train on 1000000 samples, validate on 1000000 samples\n",
      "Epoch 1/1\n",
      "1000000/1000000 [==============================] - 16s 16us/step - loss: 0.2821 - acc: 0.5070 - val_loss: 0.2808 - val_acc: 0.5003\n",
      "Train on 1000000 samples, validate on 1000000 samples\n",
      "Epoch 1/1\n",
      "1000000/1000000 [==============================] - 16s 16us/step - loss: 0.3045 - acc: 0.3199 - val_loss: 0.3010 - val_acc: 0.3081\n",
      "Train on 1000000 samples, validate on 1000000 samples\n",
      "Epoch 1/1\n",
      "1000000/1000000 [==============================] - 16s 16us/step - loss: 0.2698 - acc: 0.3193 - val_loss: 0.2694 - val_acc: 0.3238\n",
      "Train on 1000000 samples, validate on 1000000 samples\n",
      "Epoch 1/1\n",
      "1000000/1000000 [==============================] - 16s 16us/step - loss: 0.2222 - acc: 0.3432 - val_loss: 0.2222 - val_acc: 0.3477\n",
      "[[0.19897835393995048], [0.28078634659945967], [0.30096464495360853], [0.2694011316969991], [0.22218597550690175]]\n"
     ]
    }
   ],
   "source": [
    "thetas = np.linspace(0,2,5)\n",
    "lvals = []\n",
    "for theta in thetas:\n",
    "    model.compile(optimizer='adam', loss=my_loss_wrapper(myinputs,theta),metrics=['accuracy'])\n",
    "    model.fit(np.array(X_train), y_train, epochs=1, batch_size=500,validation_data=(np.array(X_test), y_test),verbose=1)\n",
    "    lvals+=[model.history.history['val_loss']]\n",
    "    print\n",
    "    pass\n",
    "print(lvals) "
   ]
  },
  {
   "cell_type": "code",
   "execution_count": 102,
   "metadata": {},
   "outputs": [
    {
     "data": {
      "text/plain": [
       "Text(0,0.5,'Loss')"
      ]
     },
     "execution_count": 102,
     "metadata": {},
     "output_type": "execute_result"
    },
    {
     "data": {
      "image/png": "[encoded data removed]",
      "text/plain": [
       "<matplotlib.figure.Figure at 0x14f0349e8>"
      ]
     },
     "metadata": {},
     "output_type": "display_data"
    }
   ],
   "source": [
    "plt.plot(thetas,lvals)\n",
    "plt.xlabel(r'$\\theta$')\n",
    "plt.ylabel('Loss')"
   ]
  },
  {
   "cell_type": "markdown",
   "metadata": {},
   "source": [
    "Now, let's do the $\\theta$ and $g$ optimization together with a minimax setup."
   ]
  },
  {
   "cell_type": "code",
   "execution_count": 108,
   "metadata": {},
   "outputs": [],
   "source": [
    "print_weights = LambdaCallback(on_epoch_end=lambda batch, logs: print(\". theta fit = \",model.layers[-1].get_weights()[-1]))"
   ]
  },
  {
   "cell_type": "code",
   "execution_count": 109,
   "metadata": {},
   "outputs": [
    {
     "name": "stdout",
     "output_type": "stream",
     "text": [
      "Train on 1000000 samples, validate on 1000000 samples\n",
      "Epoch 1/1\n",
      "1000000/1000000 [==============================] - 5s 5us/step - loss: 0.2370 - acc: 0.3447 - val_loss: 0.2356 - val_acc: 0.3367\n",
      ". theta fit =  1.5\n",
      "Train on 1000000 samples, validate on 1000000 samples\n",
      "Epoch 1/1\n",
      "1000000/1000000 [==============================] - 3s 3us/step - loss: -0.2386 - acc: 0.3369 - val_loss: -0.2415 - val_acc: 0.3367\n",
      ". theta fit =  1.3995681\n",
      "Train on 1000000 samples, validate on 1000000 samples\n",
      "Epoch 1/1\n",
      "1000000/1000000 [==============================] - 5s 5us/step - loss: 0.2406 - acc: 0.3487 - val_loss: 0.2406 - val_acc: 0.3322\n",
      ". theta fit =  1.3995681\n",
      "Train on 1000000 samples, validate on 1000000 samples\n",
      "Epoch 1/1\n",
      "1000000/1000000 [==============================] - 3s 3us/step - loss: -0.2432 - acc: 0.3322 - val_loss: -0.2456 - val_acc: 0.3322\n",
      ". theta fit =  1.299317\n",
      "Train on 1000000 samples, validate on 1000000 samples\n",
      "Epoch 1/1\n",
      "1000000/1000000 [==============================] - 7s 7us/step - loss: 0.2446 - acc: 0.3449 - val_loss: 0.2446 - val_acc: 0.3702\n",
      ". theta fit =  1.299317\n",
      "Train on 1000000 samples, validate on 1000000 samples\n",
      "Epoch 1/1\n",
      "1000000/1000000 [==============================] - 4s 4us/step - loss: -0.2464 - acc: 0.3702 - val_loss: -0.2479 - val_acc: 0.3702\n",
      ". theta fit =  1.2001555\n",
      "Train on 1000000 samples, validate on 1000000 samples\n",
      "Epoch 1/1\n",
      "1000000/1000000 [==============================] - 6s 6us/step - loss: 0.2476 - acc: 0.3427 - val_loss: 0.2473 - val_acc: 0.3449\n",
      ". theta fit =  1.2001555\n",
      "Train on 1000000 samples, validate on 1000000 samples\n",
      "Epoch 1/1\n",
      "1000000/1000000 [==============================] - 3s 3us/step - loss: -0.2485 - acc: 0.3448 - val_loss: -0.2495 - val_acc: 0.3449\n",
      ". theta fit =  1.102168\n",
      "Train on 1000000 samples, validate on 1000000 samples\n",
      "Epoch 1/1\n",
      "1000000/1000000 [==============================] - 6s 6us/step - loss: 0.2493 - acc: 0.3445 - val_loss: 0.2490 - val_acc: 0.3305\n",
      ". theta fit =  1.102168\n",
      "Train on 1000000 samples, validate on 1000000 samples\n",
      "Epoch 1/1\n",
      "1000000/1000000 [==============================] - 3s 3us/step - loss: -0.2498 - acc: 0.3303 - val_loss: -0.2502 - val_acc: 0.3305\n",
      ". theta fit =  1.0030246\n",
      "Train on 1000000 samples, validate on 1000000 samples\n",
      "Epoch 1/1\n",
      "1000000/1000000 [==============================] - 6s 6us/step - loss: 0.2499 - acc: 0.4991 - val_loss: 0.2498 - val_acc: 0.4714\n",
      ". theta fit =  1.0030246\n",
      "Train on 1000000 samples, validate on 1000000 samples\n",
      "Epoch 1/1\n",
      "1000000/1000000 [==============================] - 3s 3us/step - loss: -0.2500 - acc: 0.4713 - val_loss: -0.2500 - val_acc: 0.4714\n",
      ". theta fit =  0.9370017\n",
      "Train on 1000000 samples, validate on 1000000 samples\n",
      "Epoch 1/1\n",
      "1000000/1000000 [==============================] - 6s 6us/step - loss: 0.2497 - acc: 0.6469 - val_loss: 0.2494 - val_acc: 0.6740\n",
      ". theta fit =  0.9370017\n",
      "Train on 1000000 samples, validate on 1000000 samples\n",
      "Epoch 1/1\n",
      "1000000/1000000 [==============================] - 3s 3us/step - loss: -0.2500 - acc: 0.6743 - val_loss: -0.2502 - val_acc: 0.6740\n",
      ". theta fit =  1.029821\n",
      "Train on 1000000 samples, validate on 1000000 samples\n",
      "Epoch 1/1\n",
      "1000000/1000000 [==============================] - 6s 6us/step - loss: 0.2499 - acc: 0.4337 - val_loss: 0.2497 - val_acc: 0.3085\n",
      ". theta fit =  1.029821\n",
      "Train on 1000000 samples, validate on 1000000 samples\n",
      "Epoch 1/1\n",
      "1000000/1000000 [==============================] - 3s 3us/step - loss: -0.2502 - acc: 0.3086 - val_loss: -0.2503 - val_acc: 0.3085\n",
      ". theta fit =  0.9424201\n",
      "Train on 1000000 samples, validate on 1000000 samples\n",
      "Epoch 1/1\n",
      "1000000/1000000 [==============================] - 6s 6us/step - loss: 0.2497 - acc: 0.6078 - val_loss: 0.2495 - val_acc: 0.6825\n",
      ". theta fit =  0.9424201\n",
      "Train on 1000000 samples, validate on 1000000 samples\n",
      "Epoch 1/1\n",
      "1000000/1000000 [==============================] - 4s 4us/step - loss: -0.2499 - acc: 0.6831 - val_loss: -0.2500 - val_acc: 0.6825\n",
      ". theta fit =  1.0257072\n",
      "Train on 1000000 samples, validate on 1000000 samples\n",
      "Epoch 1/1\n",
      "1000000/1000000 [==============================] - 6s 6us/step - loss: 0.2499 - acc: 0.4355 - val_loss: 0.2497 - val_acc: 0.3198\n",
      ". theta fit =  1.0257072\n",
      "Train on 1000000 samples, validate on 1000000 samples\n",
      "Epoch 1/1\n",
      "1000000/1000000 [==============================] - 4s 4us/step - loss: -0.2500 - acc: 0.3193 - val_loss: -0.2500 - val_acc: 0.3198\n",
      ". theta fit =  0.94820195\n"
     ]
    }
   ],
   "source": [
    "K.clear_session()\n",
    "\n",
    "myinputs = Input(shape=(1,))\n",
    "x = Dense(128, activation='relu')(myinputs)\n",
    "x2 = Dense(128, activation='relu')(x)\n",
    "predictions = Dense(1, activation='sigmoid')(x2)\n",
    "identity = Lambda(lambda x: x + 0)(predictions)    \n",
    "model = Model(inputs=myinputs, outputs=identity)\n",
    "model.layers[np.size(model.layers)-1].add_weight(name=\"thetaX\",shape=list(),initializer = keras.initializers.Constant(1.5),trainable=True)\n",
    "\n",
    "def my_loss_wrapper(inputs,mysign = 1):\n",
    "    x  = inputs\n",
    "    theta = 0. #starting value\n",
    "    theta0 = tf.get_default_graph().get_tensor_by_name(\"thetaX:0\")\n",
    "    # Exact weight:\n",
    "    weight = K.exp(-(0.5*(x-theta0)**2)+(0.5*(x-theta)**2))\n",
    "    def my_loss(y_true,y_pred):\n",
    "        t_loss = mysign*(y_true*(y_true - y_pred)**2+weight*(1.-y_true)*(y_true - y_pred)**2)\n",
    "        return K.mean(t_loss)\n",
    "    return my_loss\n",
    "    \n",
    "for k in range(10):    \n",
    "    \n",
    "    for i in range(len(model.layers)-1):\n",
    "        model.layers[i].trainable = True\n",
    "        pass    \n",
    "    model.layers[-1].trainable = False\n",
    "    #model.summary()    \n",
    "    \n",
    "    model.compile(optimizer='adam', loss=my_loss_wrapper(myinputs,1),metrics=['accuracy'])\n",
    "    model.fit(np.array(X_train), y_train, epochs=1, batch_size=10000,validation_data=(np.array(X_test), y_test),verbose=1,callbacks=[print_weights])\n",
    "\n",
    "    #Now, fix g and train \\theta.\n",
    "\n",
    "    for i in range(len(model.layers)-1):\n",
    "        model.layers[i].trainable = False\n",
    "        pass    \n",
    "    model.layers[-1].trainable = True\n",
    "    model.compile(optimizer='adam', loss=my_loss_wrapper(myinputs,-1),metrics=['accuracy'])\n",
    "    #model.summary()\n",
    "    \n",
    "    model.fit(np.array(X_train), y_train, epochs=1, batch_size=10000,validation_data=(np.array(X_test), y_test),verbose=1,callbacks=[print_weights])    \n",
    "    pass"
   ]
  },
  {
   "cell_type": "code",
   "execution_count": null,
   "metadata": {},
   "outputs": [],
   "source": []
  }
 ],
 "metadata": {
  "kernelspec": {
   "display_name": "Python 3",
   "language": "python",
   "name": "python3"
  },
  "language_info": {
   "codemirror_mode": {
    "name": "ipython",
    "version": 3
   },
   "file_extension": ".py",
   "mimetype": "text/x-python",
   "name": "python",
   "nbconvert_exporter": "python",
   "pygments_lexer": "ipython3",
   "version": "3.6.9"
  }
 },
 "nbformat": 4,
 "nbformat_minor": 2
}
